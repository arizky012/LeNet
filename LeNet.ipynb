{
 "cells": [
  {
   "cell_type": "markdown",
   "metadata": {},
   "source": [
    "# LeNet"
   ]
  },
  {
   "cell_type": "raw",
   "metadata": {},
   "source": [
    "LeNet-5出自论文《Gradient-Based Learning Applied to Document Recognition》，是第一个成功应用于数字识别的卷积神经网络。LeNet-5一共5层，下图展示了模型结构"
   ]
  },
  {
   "cell_type": "markdown",
   "metadata": {},
   "source": [
    "![title](./images/lenet.png)"
   ]
  },
  {
   "cell_type": "markdown",
   "metadata": {},
   "source": [
    "## 加载数据"
   ]
  },
  {
   "cell_type": "code",
   "execution_count": 1,
   "metadata": {},
   "outputs": [
    {
     "name": "stderr",
     "output_type": "stream",
     "text": [
      "/Users/apple/anaconda3/lib/python3.6/importlib/_bootstrap.py:219: RuntimeWarning: compiletime version 3.5 of module 'tensorflow.python.framework.fast_tensor_util' does not match runtime version 3.6\n",
      "  return f(*args, **kwds)\n"
     ]
    },
    {
     "name": "stdout",
     "output_type": "stream",
     "text": [
      "Extracting ./MNIST_data/train-images-idx3-ubyte.gz\n",
      "Extracting ./MNIST_data/train-labels-idx1-ubyte.gz\n",
      "Extracting ./MNIST_data/t10k-images-idx3-ubyte.gz\n",
      "Extracting ./MNIST_data/t10k-labels-idx1-ubyte.gz\n",
      "Image size: (784,)\n",
      "Training set: (55000, 784)\n",
      "Validation set: (5000, 784)\n",
      "Testing set: (10000, 784)\n"
     ]
    }
   ],
   "source": [
    "import tensorflow as tf\n",
    "from tensorflow.examples.tutorials.mnist import input_data\n",
    "\n",
    "mnist = input_data.read_data_sets(\"./MNIST_data\", one_hot=True)\n",
    "\n",
    "X_train, Y_train = mnist.train.images, mnist.train.labels\n",
    "X_validation, Y_validation = mnist.validation.images, mnist.validation.labels\n",
    "X_test, Y_test = mnist.test.images, mnist.test.labels\n",
    "\n",
    "print(\"Image size: {}\".format(X_train[0].shape))\n",
    "print(\"Training set: {}\".format(X_train.shape))\n",
    "print(\"Validation set: {}\".format(X_validation.shape))\n",
    "print(\"Testing set: {}\".format(X_test.shape))"
   ]
  },
  {
   "cell_type": "markdown",
   "metadata": {},
   "source": [
    "## 可视化数据"
   ]
  },
  {
   "cell_type": "code",
   "execution_count": 2,
   "metadata": {},
   "outputs": [
    {
     "data": {
      "image/png": "[encoded data removed]",
      "text/plain": [
       "<Figure size 432x288 with 1 Axes>"
      ]
     },
     "metadata": {},
     "output_type": "display_data"
    }
   ],
   "source": [
    "import random\n",
    "import matplotlib.pyplot as plt\n",
    "tf.set_random_seed(2018)\n",
    "\n",
    "index = random.randint(0, mnist.train.num_examples)\n",
    "plt.imshow(mnist.train.images[index].reshape(28, 28), cmap=\"Greys\", interpolation=\"nearest\")\n",
    "plt.show()"
   ]
  },
  {
   "cell_type": "markdown",
   "metadata": {},
   "source": [
    "### 各层参数详解"
   ]
  },
  {
   "cell_type": "markdown",
   "metadata": {},
   "source": [
    "### 输入层"
   ]
  },
  {
   "cell_type": "markdown",
   "metadata": {},
   "source": [
    "输入图像尺寸首先归一化到 32x32x1"
   ]
  },
  {
   "cell_type": "code",
   "execution_count": 3,
   "metadata": {},
   "outputs": [],
   "source": [
    "X = tf.placeholder(tf.float32, shape=[None, 784])\n",
    "X_img = tf.reshape(X, shape=[-1, 28, 28, 1])\n",
    "Y = tf.placeholder(tf.float32, shape=[None, 10])"
   ]
  },
  {
   "cell_type": "code",
   "execution_count": 4,
   "metadata": {},
   "outputs": [
    {
     "data": {
      "text/plain": [
       "TensorShape([Dimension(None), Dimension(32), Dimension(32), Dimension(1)])"
      ]
     },
     "execution_count": 4,
     "metadata": {},
     "output_type": "execute_result"
    }
   ],
   "source": [
    "X_img = tf.pad(X_img, [[0, 0], [2, 2], [2, 2], [0, 0]])\n",
    "X_img.get_shape()"
   ]
  },
  {
   "cell_type": "markdown",
   "metadata": {},
   "source": [
    "### 第一层：卷积层"
   ]
  },
  {
   "cell_type": "markdown",
   "metadata": {},
   "source": [
    "这一层的输入图像像素是32x32x1，卷积核尺大小为5x5，个数为6，步长为1，输出特征图大小为28x28x6. "
   ]
  },
  {
   "cell_type": "code",
   "execution_count": 5,
   "metadata": {},
   "outputs": [
    {
     "name": "stdout",
     "output_type": "stream",
     "text": [
      "(?, 28, 28, 6)\n"
     ]
    }
   ],
   "source": [
    "with tf.name_scope(\"conv1\"):\n",
    "    W1 = tf.Variable(tf.truncated_normal(shape=[5, 5, 1, 6], mean=0.0, stddev=0.1))\n",
    "    W1_hist = tf.summary.histogram(\"W1\", W1)\n",
    "    b1 = tf.Variable(tf.zeros([6]))\n",
    "    b1_hist = tf.summary.histogram(\"b1\", b1)\n",
    "    conv1 = tf.nn.conv2d(X_img, W1, strides=[1, 1, 1, 1], padding=\"VALID\")\n",
    "    conv1 = tf.nn.bias_add(conv1, b1)\n",
    "    conv1 = tf.nn.relu(conv1)\n",
    "    conv1_hist = tf.summary.histogram(\"conv1\", conv1)\n",
    "    print(conv1.shape)"
   ]
  },
  {
   "cell_type": "markdown",
   "metadata": {},
   "source": [
    "### 池化层"
   ]
  },
  {
   "cell_type": "markdown",
   "metadata": {},
   "source": [
    "这层的输入时上一层的输出，尺寸为(?, 28, 28, 6),本层采用卷积核大小为2x2，步长为2，所以本层的输出为(?, 14, 14, 6)"
   ]
  },
  {
   "cell_type": "code",
   "execution_count": 6,
   "metadata": {},
   "outputs": [
    {
     "name": "stdout",
     "output_type": "stream",
     "text": [
      "(?, 14, 14, 6)\n"
     ]
    }
   ],
   "source": [
    "with tf.name_scope(\"pool1\"):\n",
    "    pool_1 = tf.nn.max_pool(conv1, ksize=[1, 2, 2, 1], strides=[1, 2, 2, 1], padding=\"VALID\")\n",
    "    print(pool_1.shape)"
   ]
  },
  {
   "cell_type": "markdown",
   "metadata": {},
   "source": [
    "### 第二层：卷积层"
   ]
  },
  {
   "cell_type": "markdown",
   "metadata": {},
   "source": [
    "本层的输入尺寸为(?, 14, 14, 6),使用卷积核大小为5x5，个数为16，不使用全0填充，步长为1，输出尺寸为(?, 10, 10, 16)"
   ]
  },
  {
   "cell_type": "code",
   "execution_count": 7,
   "metadata": {},
   "outputs": [
    {
     "name": "stdout",
     "output_type": "stream",
     "text": [
      "(?, 10, 10, 16)\n"
     ]
    }
   ],
   "source": [
    "with tf.name_scope(\"conv2\"):\n",
    "    W2 = tf.Variable(tf.truncated_normal(shape=[5, 5, 6, 16], mean=0.0, stddev=0.1))\n",
    "    W2_hist = tf.summary.histogram(\"W2\", W2)\n",
    "    b2 = tf.Variable(tf.zeros([16]))\n",
    "    b2_hist = tf.summary.histogram(\"b2\", b2)\n",
    "    conv2 = tf.nn.conv2d(pool_1, W2, strides=[1, 1, 1, 1], padding=\"VALID\")\n",
    "    conv2 = tf.nn.bias_add(conv2, b2)\n",
    "    conv2 = tf.nn.relu(conv2)\n",
    "    conv2_hist = tf.summary.histogram(\"conv2\", conv2)\n",
    "    print(conv2.shape)"
   ]
  },
  {
   "cell_type": "markdown",
   "metadata": {},
   "source": [
    "### 池化层"
   ]
  },
  {
   "cell_type": "markdown",
   "metadata": {},
   "source": [
    "本层输入尺寸大小为(?, 10, 10, 16)，使用卷积核大小为2x2，步长为2，输出尺寸为(?, 5, 5, 16)"
   ]
  },
  {
   "cell_type": "code",
   "execution_count": 8,
   "metadata": {},
   "outputs": [
    {
     "name": "stdout",
     "output_type": "stream",
     "text": [
      "(?, 5, 5, 16)\n"
     ]
    }
   ],
   "source": [
    "with tf.name_scope(\"pool2\"):\n",
    "    pool_2 = tf.nn.max_pool(conv2, ksize=[1, 2, 2, 1], strides=[1, 2, 2, 1], padding=\"VALID\")\n",
    "    print(pool_2.shape)"
   ]
  },
  {
   "cell_type": "markdown",
   "metadata": {},
   "source": [
    "### 第三层：全连接层"
   ]
  },
  {
   "cell_type": "markdown",
   "metadata": {},
   "source": [
    "本层输入为矩阵大小为(?, 5, 5, 16),输出节点数为120个"
   ]
  },
  {
   "cell_type": "code",
   "execution_count": 9,
   "metadata": {},
   "outputs": [
    {
     "name": "stdout",
     "output_type": "stream",
     "text": [
      "(?, 120)\n"
     ]
    }
   ],
   "source": [
    "with tf.name_scope(\"fc1\"):\n",
    "    flatten = tf.reshape(pool_2, shape=[-1, 5*5*16])\n",
    "    W3 = tf.Variable(tf.truncated_normal(shape=[5*5*16, 120], mean=0.0, stddev=0.1))\n",
    "    W3_hist = tf.summary.histogram(\"W3\", W3)\n",
    "    b3 = tf.Variable(tf.zeros([120]))\n",
    "    b3_hist = tf.summary.histogram(\"b3\", b3)\n",
    "    fc1 = tf.matmul(flatten, W3) + b3\n",
    "    fc1 = tf.nn.relu(fc1)\n",
    "    fc1_hist = tf.summary.histogram(\"fc1\", fc1)\n",
    "    print(fc1.shape)"
   ]
  },
  {
   "cell_type": "markdown",
   "metadata": {},
   "source": [
    "### 第四层：全连接层"
   ]
  },
  {
   "cell_type": "markdown",
   "metadata": {},
   "source": [
    "本层输入尺寸为(?, 120)，输出节点数为84个"
   ]
  },
  {
   "cell_type": "code",
   "execution_count": 10,
   "metadata": {},
   "outputs": [
    {
     "name": "stdout",
     "output_type": "stream",
     "text": [
      "(?, 84)\n"
     ]
    }
   ],
   "source": [
    "with tf.name_scope(\"fc2\"):\n",
    "    W4 = tf.Variable(tf.truncated_normal(shape=[120, 84], mean=0.0, stddev=0.1))\n",
    "    W4_hist = tf.summary.histogram(\"W4\", W4)\n",
    "    b4 = tf.Variable(tf.zeros([84]))\n",
    "    b4_hist = tf.summary.histogram(\"b4\", b4)\n",
    "    fc2 = tf.matmul(fc1, W4) + b4\n",
    "    fc2 = tf.nn.relu(fc2)\n",
    "    fc2_hist = tf.summary.histogram(\"fc2\", fc2)\n",
    "    print(fc2.shape)"
   ]
  },
  {
   "cell_type": "markdown",
   "metadata": {},
   "source": [
    "### 第五层：全连接层"
   ]
  },
  {
   "cell_type": "markdown",
   "metadata": {},
   "source": [
    "本层的输入尺寸为(?, 84)， 输出节点数为10"
   ]
  },
  {
   "cell_type": "code",
   "execution_count": 11,
   "metadata": {},
   "outputs": [
    {
     "name": "stdout",
     "output_type": "stream",
     "text": [
      "(?, 10)\n"
     ]
    }
   ],
   "source": [
    "with tf.name_scope(\"fc3\"):\n",
    "    W5 = tf.Variable(tf.truncated_normal(shape=[84, 10], mean=0.0, stddev=0.1))\n",
    "    W5_hist = tf.summary.histogram(\"W5\", W5)\n",
    "    b5 = tf.Variable(tf.zeros([10]))\n",
    "    b5_hist = tf.summary.histogram(\"b5\", b5)\n",
    "    logits = tf.matmul(fc2, W5) + b5\n",
    "    print(logits.shape)"
   ]
  },
  {
   "cell_type": "code",
   "execution_count": 12,
   "metadata": {},
   "outputs": [],
   "source": [
    "with tf.name_scope(\"cost\"):\n",
    "    cost = tf.reduce_mean(tf.nn.softmax_cross_entropy_with_logits(logits=logits, labels=Y))\n",
    "    cost_summ = tf.summary.scalar(\"cost\", cost)\n",
    "\n",
    "with tf.name_scope(\"train\"):\n",
    "    optimizer = tf.train.AdamOptimizer(learning_rate=0.001).minimize(cost)\n",
    "\n",
    "is_correction = tf.equal(tf.argmax(logits, 1), tf.argmax(Y, 1))\n",
    "accuracy = tf.reduce_mean(tf.cast(is_correction, tf.float32))\n",
    "acc_summ = tf.summary.scalar(\"accuracy\", accuracy)\n",
    "\n",
    "saver = tf.train.Saver()\n",
    "\n",
    "summary = tf.summary.merge_all()"
   ]
  },
  {
   "cell_type": "markdown",
   "metadata": {},
   "source": [
    "### 模型评估"
   ]
  },
  {
   "cell_type": "markdown",
   "metadata": {},
   "source": [
    "### 训练模型"
   ]
  },
  {
   "cell_type": "code",
   "execution_count": 13,
   "metadata": {},
   "outputs": [
    {
     "name": "stdout",
     "output_type": "stream",
     "text": [
      "Learning Started...\n",
      "Epoch: 1\tLoss: 0.328435354\tAccuracy: 90.34%\n",
      "Epoch: 2\tLoss: 0.088047973\tAccuracy: 97.32%\n",
      "Training finished!\n",
      "Model saved!\n"
     ]
    }
   ],
   "source": [
    "with tf.Session() as sess:\n",
    "    sess.run(tf.global_variables_initializer())\n",
    "    \n",
    "    writer = tf.summary.FileWriter(\"./log\")\n",
    "    writer.add_graph(sess.graph)\n",
    "    \n",
    "    print(\"Learning Started...\")\n",
    "    for epoch in range(2):\n",
    "        avg_acc = 0\n",
    "        avg_cost = 0\n",
    "        total_batch = int(mnist.train.num_examples / 128)\n",
    "        \n",
    "        for i in range(total_batch):\n",
    "            batch_x, batch_y = mnist.train.next_batch(128)\n",
    "            feed_dict = {X: batch_x, Y: batch_y}\n",
    "            _, s, a, c = sess.run([optimizer, summary, accuracy, cost], feed_dict=feed_dict)\n",
    "            writer.add_summary(s, global_step=i)\n",
    "            avg_acc += a / total_batch\n",
    "            avg_cost += c / total_batch\n",
    "            \n",
    "        print(\"Epoch: {}\\tLoss: {:.9f}\\tAccuracy: {:.2%}\".format(epoch+1, avg_cost, avg_acc))\n",
    "    print(\"Training finished!\")\n",
    "    \n",
    "    saver.save(sess, \"checkpoint/lenet.ckpt\")\n",
    "    print(\"Model saved!\")"
   ]
  },
  {
   "cell_type": "markdown",
   "metadata": {
    "collapsed": true
   },
   "source": [
    "## 评估模型"
   ]
  },
  {
   "cell_type": "code",
   "execution_count": 14,
   "metadata": {},
   "outputs": [
    {
     "name": "stdout",
     "output_type": "stream",
     "text": [
      "INFO:tensorflow:Restoring parameters from checkpoint/lenet.ckpt\n",
      "Accuracy on test set:97.630%\n"
     ]
    }
   ],
   "source": [
    "with tf.Session() as sess:\n",
    "    model_file = tf.train.latest_checkpoint(\"checkpoint\")\n",
    "    saver.restore(sess, model_file)\n",
    "    test_accuracy = sess.run(accuracy, feed_dict={X: X_test, Y: Y_test})\n",
    "    print(\"Accuracy on test set:{:.3%}\".format(test_accuracy))"
   ]
  },
  {
   "cell_type": "code",
   "execution_count": null,
   "metadata": {
    "collapsed": true
   },
   "outputs": [],
   "source": []
  }
 ],
 "metadata": {
  "kernelspec": {
   "display_name": "Python 3",
   "language": "python",
   "name": "python3"
  },
  "language_info": {
   "codemirror_mode": {
    "name": "ipython",
    "version": 3
   },
   "file_extension": ".py",
   "mimetype": "text/x-python",
   "name": "python",
   "nbconvert_exporter": "python",
   "pygments_lexer": "ipython3",
   "version": "3.6.3"
  }
 },
 "nbformat": 4,
 "nbformat_minor": 2
}
